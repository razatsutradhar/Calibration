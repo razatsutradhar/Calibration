{
 "cells": [
  {
   "cell_type": "code",
   "execution_count": 1,
   "metadata": {},
   "outputs": [],
   "source": [
    "import numpy as np\n",
    "import cv2 as cv\n",
    "import cv2\n",
    "import glob\n",
    "import depthai  # depthai - access the camera and its data packets\n",
    "import blobconverter  # blobconverter - compile and download MyriadX neural network blobs\n",
    "import time"
   ]
  },
  {
   "cell_type": "code",
   "execution_count": 2,
   "metadata": {},
   "outputs": [],
   "source": [
    "# Closer-in minimum depth, disparity range is doubled (from 95 to 190):\n",
    "extended_disparity = False\n",
    "# Better accuracy for longer distance, fractional disparity 32-levels:\n",
    "subpixel = False\n",
    "# Better handling for occlusions:\n",
    "lr_check = True\n",
    "\n",
    "\n",
    "pipeline = depthai.Pipeline()\n",
    "cam_rgb = pipeline.create(depthai.node.ColorCamera)\n",
    "cam_rgb.setPreviewSize(640,480)\n",
    "cam_rgb.setInterleaved(False)\n",
    "\n",
    "cam_mono_right = pipeline.create(depthai.node.MonoCamera)\n",
    "cam_mono_right.setBoardSocket(depthai.CameraBoardSocket.RIGHT)\n",
    "cam_mono_right.setResolution(depthai.MonoCameraProperties.SensorResolution.THE_480_P)\n",
    "\n",
    "cam_mono_left = pipeline.create(depthai.node.MonoCamera)\n",
    "cam_mono_left.setBoardSocket(depthai.CameraBoardSocket.LEFT)\n",
    "cam_mono_left.setResolution(depthai.MonoCameraProperties.SensorResolution.THE_480_P)\n",
    "\n",
    "depth = pipeline.create(depthai.node.StereoDepth)\n",
    "xout = pipeline.create(depthai.node.XLinkOut)\n",
    "xout_rgb = pipeline.create(depthai.node.XLinkOut)\n",
    "\n",
    "xout_rgb.setStreamName(\"rgb\")\n",
    "xout.setStreamName(\"disparity\")\n",
    "\n",
    "# Create a node that will produce the depth map (using disparity output as it's easier to visualize depth this way)\n",
    "depth.setDefaultProfilePreset(depthai.node.StereoDepth.PresetMode.HIGH_DENSITY)\n",
    "# Options: MEDIAN_OFF, KERNEL_3x3, KERNEL_5x5, KERNEL_7x7 (default)\n",
    "depth.initialConfig.setMedianFilter(depthai.MedianFilter.KERNEL_7x7)\n",
    "depth.setLeftRightCheck(lr_check)\n",
    "depth.setExtendedDisparity(extended_disparity)\n",
    "depth.setSubpixel(subpixel)\n",
    "\n",
    "\n",
    "# Linking\n",
    "cam_rgb.preview.link(xout_rgb.input)\n",
    "cam_mono_left.out.link(depth.left)\n",
    "cam_mono_right.out.link(depth.right)\n",
    "depth.disparity.link(xout.input)"
   ]
  },
  {
   "cell_type": "code",
   "execution_count": 3,
   "metadata": {},
   "outputs": [],
   "source": [
    "prev_frame_time = 0\n",
    "new_frame_time = 0\n",
    "\n",
    "with depthai.Device(pipeline) as device:\n",
    "\n",
    "    # Output queue will be used to get the disparity frames from the outputs defined above\n",
    "    q_depth = device.getOutputQueue(name=\"disparity\", maxSize=1, blocking=False)\n",
    "    q_rgb = device.getOutputQueue(name=\"rgb\", maxSize=4, blocking=False)\n",
    "    fps_captures = list()\n",
    "    while True:\n",
    "        inDisparity = q_depth.get()  # blocking call, will wait until a new data has arrived\n",
    "        frame = inDisparity.getFrame()\n",
    "        # Normalization for better visualization\n",
    "        frame = (frame * (255 / depth.initialConfig.getMaxDisparity())).astype(np.uint8)\n",
    "\n",
    "        frame = cv2.applyColorMap(frame, cv2.COLORMAP_JET)\n",
    "        cv2.imshow(\"disparity_color\", frame)\n",
    "\n",
    "        in_rgb = q_rgb.tryGet()\n",
    "\n",
    "        if in_rgb is not None:\n",
    "            frame = in_rgb.getCvFrame()\n",
    "            new_frame_time = time.time()\n",
    "            fps = 1/(new_frame_time-prev_frame_time)\n",
    "            fps_captures.append(fps)\n",
    "            prev_frame_time = new_frame_time\n",
    "            fps = str(int(fps))\n",
    "            cv2.putText(frame, fps, (7, 70), cv2.FONT_HERSHEY_SIMPLEX, 3, (100, 255, 0), 3, cv2.LINE_AA)\n",
    "            cv2.imshow(\"rgb\", frame)\n",
    "            \n",
    "\n",
    "        if cv2.waitKey(1) == ord('q'):\n",
    "            break\n",
    "cv2.destroyAllWindows()"
   ]
  },
  {
   "cell_type": "code",
   "execution_count": 4,
   "metadata": {},
   "outputs": [
    {
     "name": "stdout",
     "output_type": "stream",
     "text": [
      "avg fps:  33\n",
      "median fps:  27\n"
     ]
    }
   ],
   "source": [
    "np_fps = np.array(fps_captures)\n",
    "np_fps.sort()\n",
    "print(\"avg fps: \",int(np_fps.mean()))\n",
    "print(\"median fps: \",int(np_fps[int(len(np_fps)/2)]))"
   ]
  }
 ],
 "metadata": {
  "kernelspec": {
   "display_name": "Python 3.10.2 64-bit",
   "language": "python",
   "name": "python3"
  },
  "language_info": {
   "codemirror_mode": {
    "name": "ipython",
    "version": 3
   },
   "file_extension": ".py",
   "mimetype": "text/x-python",
   "name": "python",
   "nbconvert_exporter": "python",
   "pygments_lexer": "ipython3",
   "version": "3.10.2"
  },
  "orig_nbformat": 4,
  "vscode": {
   "interpreter": {
    "hash": "369f2c481f4da34e4445cda3fffd2e751bd1c4d706f27375911949ba6bb62e1c"
   }
  }
 },
 "nbformat": 4,
 "nbformat_minor": 2
}
